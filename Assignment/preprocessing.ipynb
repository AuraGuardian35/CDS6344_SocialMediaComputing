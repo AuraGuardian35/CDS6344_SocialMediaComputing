{
 "cells": [
  {
   "cell_type": "code",
   "execution_count": 1,
   "id": "c5d03915",
   "metadata": {},
   "outputs": [],
   "source": [
    "# Phase 1: Data Preprocessing for Twitter Airline Sentiment Analysis\n",
    "# Person A - Social Media Computing Assignment\n",
    "\n",
    "# Import libraries\n",
    "import pandas as pd\n",
    "import numpy as np\n",
    "import os\n",
    "import re\n",
    "import pickle\n",
    "from collections import Counter\n",
    "import matplotlib.pyplot as plt\n",
    "import seaborn as sns\n",
    "from sklearn.model_selection import train_test_split\n",
    "from sklearn.feature_extraction.text import TfidfVectorizer\n",
    "from tensorflow.keras.preprocessing.text import Tokenizer\n",
    "from tensorflow.keras.preprocessing.sequence import pad_sequences\n",
    "\n",
    "# Set random seed for reproducibility\n",
    "np.random.seed(42)"
   ]
  },
  {
   "cell_type": "code",
   "execution_count": 2,
   "id": "cedfae30",
   "metadata": {},
   "outputs": [
    {
     "name": "stdout",
     "output_type": "stream",
     "text": [
      "Created directory structure\n"
     ]
    }
   ],
   "source": [
    "# Create directory structure\n",
    "os.makedirs('data', exist_ok=True)\n",
    "os.makedirs('models/traditional_ml', exist_ok=True)\n",
    "os.makedirs('models/deep_learning', exist_ok=True)\n",
    "os.makedirs('models/transformers', exist_ok=True)\n",
    "os.makedirs('dashboard', exist_ok=True)\n",
    "\n",
    "print(\"Created directory structure\")"
   ]
  },
  {
   "cell_type": "code",
   "execution_count": 3,
   "id": "df7169dc",
   "metadata": {},
   "outputs": [
    {
     "name": "stdout",
     "output_type": "stream",
     "text": [
      "Dataset loaded from data/ folder successfully!\n",
      "Shape: (14640, 15)\n"
     ]
    }
   ],
   "source": [
    "# Load dataset (assuming Tweets.csv is in data folder)\n",
    "csv_path = 'data/Tweets.csv'\n",
    "if not os.path.exists(csv_path):\n",
    "    # Try current directory as backup\n",
    "    csv_path = 'Tweets.csv'\n",
    "    if not os.path.exists(csv_path):\n",
    "        print(f\"File not found: {csv_path}\")\n",
    "        print(\"Please place Tweets.csv in the data/ folder or current directory\")\n",
    "    else:\n",
    "        print(\"Found Tweets.csv in current directory\")\n",
    "        df = pd.read_csv(csv_path)\n",
    "        print(f\"Dataset loaded successfully!\")\n",
    "        print(f\"Shape: {df.shape}\")\n",
    "else:\n",
    "    df = pd.read_csv(csv_path)\n",
    "    print(f\"Dataset loaded from data/ folder successfully!\")\n",
    "    print(f\"Shape: {df.shape}\")"
   ]
  },
  {
   "cell_type": "code",
   "execution_count": 4,
   "id": "3b89547c",
   "metadata": {},
   "outputs": [
    {
     "name": "stdout",
     "output_type": "stream",
     "text": [
      "\n",
      "Dataset Info:\n",
      "<class 'pandas.core.frame.DataFrame'>\n",
      "RangeIndex: 14640 entries, 0 to 14639\n",
      "Data columns (total 15 columns):\n",
      " #   Column                        Non-Null Count  Dtype  \n",
      "---  ------                        --------------  -----  \n",
      " 0   tweet_id                      14640 non-null  int64  \n",
      " 1   airline_sentiment             14640 non-null  object \n",
      " 2   airline_sentiment_confidence  14640 non-null  float64\n",
      " 3   negativereason                9178 non-null   object \n",
      " 4   negativereason_confidence     10522 non-null  float64\n",
      " 5   airline                       14640 non-null  object \n",
      " 6   airline_sentiment_gold        40 non-null     object \n",
      " 7   name                          14640 non-null  object \n",
      " 8   negativereason_gold           32 non-null     object \n",
      " 9   retweet_count                 14640 non-null  int64  \n",
      " 10  text                          14640 non-null  object \n",
      " 11  tweet_coord                   1019 non-null   object \n",
      " 12  tweet_created                 14640 non-null  object \n",
      " 13  tweet_location                9907 non-null   object \n",
      " 14  user_timezone                 9820 non-null   object \n",
      "dtypes: float64(2), int64(2), object(11)\n",
      "memory usage: 1.7+ MB\n",
      "None\n"
     ]
    }
   ],
   "source": [
    "# Basic dataset information\n",
    "print(\"\\nDataset Info:\")\n",
    "print(df.info())\n"
   ]
  },
  {
   "cell_type": "code",
   "execution_count": 5,
   "id": "5f4437d9",
   "metadata": {},
   "outputs": [
    {
     "name": "stdout",
     "output_type": "stream",
     "text": [
      "\n",
      "First 5 rows:\n"
     ]
    },
    {
     "data": {
      "text/html": [
       "<div>\n",
       "<style scoped>\n",
       "    .dataframe tbody tr th:only-of-type {\n",
       "        vertical-align: middle;\n",
       "    }\n",
       "\n",
       "    .dataframe tbody tr th {\n",
       "        vertical-align: top;\n",
       "    }\n",
       "\n",
       "    .dataframe thead th {\n",
       "        text-align: right;\n",
       "    }\n",
       "</style>\n",
       "<table border=\"1\" class=\"dataframe\">\n",
       "  <thead>\n",
       "    <tr style=\"text-align: right;\">\n",
       "      <th></th>\n",
       "      <th>tweet_id</th>\n",
       "      <th>airline_sentiment</th>\n",
       "      <th>airline_sentiment_confidence</th>\n",
       "      <th>negativereason</th>\n",
       "      <th>negativereason_confidence</th>\n",
       "      <th>airline</th>\n",
       "      <th>airline_sentiment_gold</th>\n",
       "      <th>name</th>\n",
       "      <th>negativereason_gold</th>\n",
       "      <th>retweet_count</th>\n",
       "      <th>text</th>\n",
       "      <th>tweet_coord</th>\n",
       "      <th>tweet_created</th>\n",
       "      <th>tweet_location</th>\n",
       "      <th>user_timezone</th>\n",
       "    </tr>\n",
       "  </thead>\n",
       "  <tbody>\n",
       "    <tr>\n",
       "      <th>0</th>\n",
       "      <td>570306133677760513</td>\n",
       "      <td>neutral</td>\n",
       "      <td>1.0000</td>\n",
       "      <td>NaN</td>\n",
       "      <td>NaN</td>\n",
       "      <td>Virgin America</td>\n",
       "      <td>NaN</td>\n",
       "      <td>cairdin</td>\n",
       "      <td>NaN</td>\n",
       "      <td>0</td>\n",
       "      <td>@VirginAmerica What @dhepburn said.</td>\n",
       "      <td>NaN</td>\n",
       "      <td>2015-02-24 11:35:52 -0800</td>\n",
       "      <td>NaN</td>\n",
       "      <td>Eastern Time (US &amp; Canada)</td>\n",
       "    </tr>\n",
       "    <tr>\n",
       "      <th>1</th>\n",
       "      <td>570301130888122368</td>\n",
       "      <td>positive</td>\n",
       "      <td>0.3486</td>\n",
       "      <td>NaN</td>\n",
       "      <td>0.0000</td>\n",
       "      <td>Virgin America</td>\n",
       "      <td>NaN</td>\n",
       "      <td>jnardino</td>\n",
       "      <td>NaN</td>\n",
       "      <td>0</td>\n",
       "      <td>@VirginAmerica plus you've added commercials t...</td>\n",
       "      <td>NaN</td>\n",
       "      <td>2015-02-24 11:15:59 -0800</td>\n",
       "      <td>NaN</td>\n",
       "      <td>Pacific Time (US &amp; Canada)</td>\n",
       "    </tr>\n",
       "    <tr>\n",
       "      <th>2</th>\n",
       "      <td>570301083672813571</td>\n",
       "      <td>neutral</td>\n",
       "      <td>0.6837</td>\n",
       "      <td>NaN</td>\n",
       "      <td>NaN</td>\n",
       "      <td>Virgin America</td>\n",
       "      <td>NaN</td>\n",
       "      <td>yvonnalynn</td>\n",
       "      <td>NaN</td>\n",
       "      <td>0</td>\n",
       "      <td>@VirginAmerica I didn't today... Must mean I n...</td>\n",
       "      <td>NaN</td>\n",
       "      <td>2015-02-24 11:15:48 -0800</td>\n",
       "      <td>Lets Play</td>\n",
       "      <td>Central Time (US &amp; Canada)</td>\n",
       "    </tr>\n",
       "    <tr>\n",
       "      <th>3</th>\n",
       "      <td>570301031407624196</td>\n",
       "      <td>negative</td>\n",
       "      <td>1.0000</td>\n",
       "      <td>Bad Flight</td>\n",
       "      <td>0.7033</td>\n",
       "      <td>Virgin America</td>\n",
       "      <td>NaN</td>\n",
       "      <td>jnardino</td>\n",
       "      <td>NaN</td>\n",
       "      <td>0</td>\n",
       "      <td>@VirginAmerica it's really aggressive to blast...</td>\n",
       "      <td>NaN</td>\n",
       "      <td>2015-02-24 11:15:36 -0800</td>\n",
       "      <td>NaN</td>\n",
       "      <td>Pacific Time (US &amp; Canada)</td>\n",
       "    </tr>\n",
       "    <tr>\n",
       "      <th>4</th>\n",
       "      <td>570300817074462722</td>\n",
       "      <td>negative</td>\n",
       "      <td>1.0000</td>\n",
       "      <td>Can't Tell</td>\n",
       "      <td>1.0000</td>\n",
       "      <td>Virgin America</td>\n",
       "      <td>NaN</td>\n",
       "      <td>jnardino</td>\n",
       "      <td>NaN</td>\n",
       "      <td>0</td>\n",
       "      <td>@VirginAmerica and it's a really big bad thing...</td>\n",
       "      <td>NaN</td>\n",
       "      <td>2015-02-24 11:14:45 -0800</td>\n",
       "      <td>NaN</td>\n",
       "      <td>Pacific Time (US &amp; Canada)</td>\n",
       "    </tr>\n",
       "  </tbody>\n",
       "</table>\n",
       "</div>"
      ],
      "text/plain": [
       "             tweet_id airline_sentiment  airline_sentiment_confidence  \\\n",
       "0  570306133677760513           neutral                        1.0000   \n",
       "1  570301130888122368          positive                        0.3486   \n",
       "2  570301083672813571           neutral                        0.6837   \n",
       "3  570301031407624196          negative                        1.0000   \n",
       "4  570300817074462722          negative                        1.0000   \n",
       "\n",
       "  negativereason  negativereason_confidence         airline  \\\n",
       "0            NaN                        NaN  Virgin America   \n",
       "1            NaN                     0.0000  Virgin America   \n",
       "2            NaN                        NaN  Virgin America   \n",
       "3     Bad Flight                     0.7033  Virgin America   \n",
       "4     Can't Tell                     1.0000  Virgin America   \n",
       "\n",
       "  airline_sentiment_gold        name negativereason_gold  retweet_count  \\\n",
       "0                    NaN     cairdin                 NaN              0   \n",
       "1                    NaN    jnardino                 NaN              0   \n",
       "2                    NaN  yvonnalynn                 NaN              0   \n",
       "3                    NaN    jnardino                 NaN              0   \n",
       "4                    NaN    jnardino                 NaN              0   \n",
       "\n",
       "                                                text tweet_coord  \\\n",
       "0                @VirginAmerica What @dhepburn said.         NaN   \n",
       "1  @VirginAmerica plus you've added commercials t...         NaN   \n",
       "2  @VirginAmerica I didn't today... Must mean I n...         NaN   \n",
       "3  @VirginAmerica it's really aggressive to blast...         NaN   \n",
       "4  @VirginAmerica and it's a really big bad thing...         NaN   \n",
       "\n",
       "               tweet_created tweet_location               user_timezone  \n",
       "0  2015-02-24 11:35:52 -0800            NaN  Eastern Time (US & Canada)  \n",
       "1  2015-02-24 11:15:59 -0800            NaN  Pacific Time (US & Canada)  \n",
       "2  2015-02-24 11:15:48 -0800      Lets Play  Central Time (US & Canada)  \n",
       "3  2015-02-24 11:15:36 -0800            NaN  Pacific Time (US & Canada)  \n",
       "4  2015-02-24 11:14:45 -0800            NaN  Pacific Time (US & Canada)  "
      ]
     },
     "execution_count": 5,
     "metadata": {},
     "output_type": "execute_result"
    }
   ],
   "source": [
    "# Display first few rows\n",
    "print(\"\\nFirst 5 rows:\")\n",
    "df.head()"
   ]
  },
  {
   "cell_type": "code",
   "execution_count": 6,
   "id": "b527e69a",
   "metadata": {},
   "outputs": [
    {
     "name": "stdout",
     "output_type": "stream",
     "text": [
      "\n",
      "Sentiment distribution:\n",
      "airline_sentiment\n",
      "negative    9178\n",
      "neutral     3099\n",
      "positive    2363\n",
      "Name: count, dtype: int64\n"
     ]
    }
   ],
   "source": [
    "# Check unique values in sentiment column\n",
    "print(\"\\nSentiment distribution:\")\n",
    "print(df['airline_sentiment'].value_counts())"
   ]
  },
  {
   "cell_type": "code",
   "execution_count": 7,
   "id": "08a432c4",
   "metadata": {},
   "outputs": [
    {
     "name": "stdout",
     "output_type": "stream",
     "text": [
      "\n",
      "Missing values in key columns:\n",
      "text                 0\n",
      "airline_sentiment    0\n",
      "airline              0\n",
      "dtype: int64\n"
     ]
    }
   ],
   "source": [
    "# Check for missing values in key columns\n",
    "print(\"\\nMissing values in key columns:\")\n",
    "print(df[['text', 'airline_sentiment', 'airline']].isnull().sum())"
   ]
  },
  {
   "cell_type": "code",
   "execution_count": 8,
   "id": "7d0e05ce",
   "metadata": {},
   "outputs": [
    {
     "data": {
      "image/png": "[encoded data removed]",
      "text/plain": [
       "<Figure size 1000x600 with 2 Axes>"
      ]
     },
     "metadata": {},
     "output_type": "display_data"
    }
   ],
   "source": [
    "# Basic EDA - Sentiment distribution visualization\n",
    "plt.figure(figsize=(10, 6))\n",
    "plt.subplot(1, 2, 1)\n",
    "df['airline_sentiment'].value_counts().plot(kind='bar')\n",
    "plt.title('Sentiment Distribution')\n",
    "plt.ylabel('Count')\n",
    "plt.xticks(rotation=45)\n",
    "\n",
    "plt.subplot(1, 2, 2)\n",
    "df['airline'].value_counts().plot(kind='bar')\n",
    "plt.title('Airline Distribution')\n",
    "plt.ylabel('Count')\n",
    "plt.xticks(rotation=45)\n",
    "plt.tight_layout()\n",
    "plt.show()"
   ]
  },
  {
   "cell_type": "code",
   "execution_count": 9,
   "id": "471cc425",
   "metadata": {},
   "outputs": [
    {
     "name": "stdout",
     "output_type": "stream",
     "text": [
      "\n",
      "Text statistics:\n",
      "Average text length: 103.8 characters\n",
      "Average word count: 17.7 words\n",
      "Max word count: 36\n"
     ]
    }
   ],
   "source": [
    "# Text length analysis\n",
    "df['text_length'] = df['text'].str.len()\n",
    "df['word_count'] = df['text'].str.split().str.len()\n",
    "\n",
    "print(\"\\nText statistics:\")\n",
    "print(f\"Average text length: {df['text_length'].mean():.1f} characters\")\n",
    "print(f\"Average word count: {df['word_count'].mean():.1f} words\")\n",
    "print(f\"Max word count: {df['word_count'].max()}\")"
   ]
  },
  {
   "cell_type": "code",
   "execution_count": 10,
   "id": "ceff4220",
   "metadata": {},
   "outputs": [],
   "source": [
    "def preprocess_text(text):\n",
    "    \"\"\"Clean text for sentiment analysis\"\"\"\n",
    "    if pd.isna(text):\n",
    "        return \"\"\n",
    "\n",
    "    # Lowercase\n",
    "    text = text.lower()\n",
    "\n",
    "    # Remove URLs\n",
    "    text = re.sub(r'http\\S+|www\\S+|https\\S+', '', text)\n",
    "\n",
    "    # Remove @mentions\n",
    "    text = re.sub(r'@\\w+', '', text)\n",
    "\n",
    "    # Remove hashtag symbol but keep the word\n",
    "    text = re.sub(r'#(\\w+)', r'\\1', text)\n",
    "\n",
    "    # Regex-based tokenization (preserve contractions like \"you've\")\n",
    "    words = re.findall(r\"\\b\\w+'\\w+|\\w+\\b\", text)\n",
    "\n",
    "    # Contraction and abbreviation dictionary\n",
    "    contractions = {\n",
    "        \"don't\": \"do not\", \"won't\": \"will not\", \"can't\": \"cannot\",\n",
    "        \"i'm\": \"i am\", \"you're\": \"you are\", \"he's\": \"he is\", \"she's\": \"she is\",\n",
    "        \"it's\": \"it is\", \"we're\": \"we are\", \"they're\": \"they are\",\n",
    "        \"i've\": \"i have\", \"you've\": \"you have\", \"we've\": \"we have\", \"they've\": \"they have\",\n",
    "        \"i'd\": \"i would\", \"you'd\": \"you would\", \"he'd\": \"he would\", \"she'd\": \"she would\",\n",
    "        \"we'd\": \"we would\", \"they'd\": \"they would\",\n",
    "        \"i'll\": \"i will\", \"you'll\": \"you will\", \"he'll\": \"he will\", \"she'll\": \"she will\",\n",
    "        \"we'll\": \"we will\", \"they'll\": \"they will\",\n",
    "        \"didn't\": \"did not\", \"hasn't\": \"has not\", \"hadn't\": \"had not\",\n",
    "        \"couldn't\": \"could not\", \"shouldn't\": \"should not\", \"wouldn't\": \"would not\",\n",
    "        \"isn't\": \"is not\", \"aren't\": \"are not\", \"wasn't\": \"was not\", \"weren't\": \"were not\",\n",
    "        \"n't\": \" not\", \"'re\": \" are\", \"'ve\": \" have\", \"'ll\": \" will\",\n",
    "        \"'d\": \" would\", \"'m\": \" am\",\n",
    "\n",
    "        \"u\": \"you\", \"ur\": \"your\", \"r\": \"are\", \"pls\": \"please\", \"plz\": \"please\",\n",
    "        \"btw\": \"by the way\", \"idk\": \"i don't know\", \"imo\": \"in my opinion\",\n",
    "        \"omg\": \"oh my god\", \"lol\": \"laugh out loud\", \"rofl\": \"rolling on the floor laughing\",\n",
    "        \"lmao\": \"laughing my ass off\", \"smh\": \"shaking my head\", \"thx\": \"thanks\",\n",
    "        \"ty\": \"thank you\", \"np\": \"no problem\", \"omw\": \"on my way\", \"b4\": \"before\",\n",
    "        \"gr8\": \"great\", \"k\": \"okay\", \"bc\": \"because\", \"b/c\": \"because\",\n",
    "        \"w/\": \"with\", \"w/o\": \"without\", \"bday\": \"birthday\", \"msg\": \"message\",\n",
    "        \"fyi\": \"for your information\", \"asap\": \"as soon as possible\", \"brb\": \"be right back\",\n",
    "        \"gtg\": \"got to go\", \"ttyl\": \"talk to you later\", \"afaik\": \"as far as i know\",\n",
    "        \"icymi\": \"in case you missed it\", \"tbh\": \"to be honest\", \"im\": \"i am\",\n",
    "        \"ive\": \"i have\", \"idc\": \"i don't care\", \"ikr\": \"i know right\", \"ya\": \"you\",\n",
    "        \"ya'll\": \"you all\", \"sup\": \"what's up\", \"bff\": \"best friend forever\",\n",
    "        \"bf\": \"boyfriend\", \"gf\": \"girlfriend\"\n",
    "    }\n",
    "\n",
    "    # Replace contractions and abbreviations\n",
    "    expanded_words = []\n",
    "    for word in words:\n",
    "        if word in contractions:\n",
    "            expanded_words.extend(contractions[word].split())\n",
    "        else:\n",
    "            expanded_words.append(word)\n",
    "\n",
    "    # Rejoin\n",
    "    text = ' '.join(expanded_words)\n",
    "\n",
    "    # Remove punctuation (but keep numbers)\n",
    "    text = re.sub(r'[^a-zA-Z0-9\\s]', '', text)\n",
    "\n",
    "    # Clean up spacing\n",
    "    text = re.sub(r'\\s+', ' ', text).strip()\n",
    "\n",
    "    return text\n"
   ]
  },
  {
   "cell_type": "code",
   "execution_count": 11,
   "id": "7bfcf539",
   "metadata": {},
   "outputs": [
    {
     "name": "stdout",
     "output_type": "stream",
     "text": [
      "Applying text preprocessing...\n"
     ]
    }
   ],
   "source": [
    "# Apply text preprocessing\n",
    "print(\"Applying text preprocessing...\")\n",
    "df['cleaned_text'] = df['text'].apply(preprocess_text)"
   ]
  },
  {
   "cell_type": "code",
   "execution_count": 12,
   "id": "928849f6",
   "metadata": {},
   "outputs": [
    {
     "name": "stdout",
     "output_type": "stream",
     "text": [
      "Texts before cleaning: 14640\n",
      "Texts after removing empty: 14640\n"
     ]
    }
   ],
   "source": [
    "# Remove empty texts after cleaning\n",
    "print(f\"Texts before cleaning: {len(df)}\")\n",
    "df = df[df['cleaned_text'].str.len() > 0]\n",
    "print(f\"Texts after removing empty: {len(df)}\")"
   ]
  },
  {
   "cell_type": "code",
   "execution_count": 13,
   "id": "a7cdc985",
   "metadata": {},
   "outputs": [
    {
     "name": "stdout",
     "output_type": "stream",
     "text": [
      "\n",
      "Label mapping:\n",
      "positive -> 2: 2363 samples\n",
      "neutral -> 1: 3099 samples\n",
      "negative -> 0: 9178 samples\n"
     ]
    }
   ],
   "source": [
    "# Create numeric labels\n",
    "label_mapping = {'positive': 2, 'neutral': 1, 'negative': 0}\n",
    "df['label_numeric'] = df['airline_sentiment'].map(label_mapping)\n",
    "\n",
    "print(\"\\nLabel mapping:\")\n",
    "for original, numeric in label_mapping.items():\n",
    "    count = df[df['airline_sentiment'] == original].shape[0]\n",
    "    print(f\"{original} -> {numeric}: {count} samples\")"
   ]
  },
  {
   "cell_type": "code",
   "execution_count": 14,
   "id": "1fedd0f0",
   "metadata": {},
   "outputs": [
    {
     "name": "stdout",
     "output_type": "stream",
     "text": [
      "\n",
      "Cleaned text statistics:\n",
      "Average cleaned text length: 86.8 characters\n",
      "Average cleaned word count: 16.8 words\n",
      "Max cleaned word count: 34\n"
     ]
    }
   ],
   "source": [
    "# Check cleaned text statistics\n",
    "df['cleaned_length'] = df['cleaned_text'].str.len()\n",
    "df['cleaned_word_count'] = df['cleaned_text'].str.split().str.len()\n",
    "\n",
    "print(\"\\nCleaned text statistics:\")\n",
    "print(f\"Average cleaned text length: {df['cleaned_length'].mean():.1f} characters\")\n",
    "print(f\"Average cleaned word count: {df['cleaned_word_count'].mean():.1f} words\")\n",
    "print(f\"Max cleaned word count: {df['cleaned_word_count'].max()}\")"
   ]
  },
  {
   "cell_type": "code",
   "execution_count": 15,
   "id": "2dc97422",
   "metadata": {},
   "outputs": [
    {
     "name": "stdout",
     "output_type": "stream",
     "text": [
      "\n",
      "Preprocessing examples:\n",
      "\n",
      "Example 1:\n",
      "Original: @VirginAmerica What @dhepburn said.\n",
      "Cleaned:  what said\n",
      "Sentiment: neutral\n",
      "\n",
      "Example 2:\n",
      "Original: @VirginAmerica plus you've added commercials to the experience... tacky.\n",
      "Cleaned:  plus you have added commercials to the experience tacky\n",
      "Sentiment: positive\n",
      "\n",
      "Example 3:\n",
      "Original: @VirginAmerica I didn't today... Must mean I need to take another trip!\n",
      "Cleaned:  i did not today must mean i need to take another trip\n",
      "Sentiment: neutral\n"
     ]
    }
   ],
   "source": [
    "# Show examples of before/after preprocessing\n",
    "print(\"\\nPreprocessing examples:\")\n",
    "for i in range(3):\n",
    "    print(f\"\\nExample {i+1}:\")\n",
    "    print(f\"Original: {df.iloc[i]['text']}\")\n",
    "    print(f\"Cleaned:  {df.iloc[i]['cleaned_text']}\")\n",
    "    print(f\"Sentiment: {df.iloc[i]['airline_sentiment']}\")"
   ]
  },
  {
   "cell_type": "code",
   "execution_count": 16,
   "id": "92d81bf7",
   "metadata": {},
   "outputs": [
    {
     "name": "stdout",
     "output_type": "stream",
     "text": [
      "\n",
      "Final cleaned dataset shape: (14640, 7)\n",
      "\n",
      "Final dataset columns:\n",
      "['tweet_id', 'original_text', 'cleaned_text', 'airline_sentiment', 'airline', 'label_numeric', 'cleaned_word_count']\n"
     ]
    }
   ],
   "source": [
    "# Create final cleaned dataset\n",
    "cleaned_df = df[['tweet_id', 'text', 'cleaned_text', 'airline_sentiment', 'airline', 'label_numeric']].copy()\n",
    "cleaned_df.rename(columns={'text': 'original_text'}, inplace=True)\n",
    "cleaned_df['cleaned_word_count'] = cleaned_df['cleaned_text'].str.split().str.len()\n",
    "\n",
    "print(f\"\\nFinal cleaned dataset shape: {cleaned_df.shape}\")\n",
    "print(\"\\nFinal dataset columns:\")\n",
    "print(cleaned_df.columns.tolist())"
   ]
  },
  {
   "cell_type": "code",
   "execution_count": 17,
   "id": "a8fb6581",
   "metadata": {},
   "outputs": [
    {
     "name": "stdout",
     "output_type": "stream",
     "text": [
      "Saved: data/cleaned_data.csv\n"
     ]
    }
   ],
   "source": [
    "# Save cleaned dataset\n",
    "cleaned_df.to_csv('data/cleaned_data.csv', index=False)\n",
    "print(\"Saved: data/cleaned_data.csv\")"
   ]
  },
  {
   "cell_type": "code",
   "execution_count": 18,
   "id": "bd9a676d",
   "metadata": {},
   "outputs": [
    {
     "name": "stdout",
     "output_type": "stream",
     "text": [
      "\n",
      "Preprocessing configuration:\n",
      "tfidf_max_features: 5000\n",
      "tfidf_ngram_range: (1, 2)\n",
      "tfidf_min_df: 5\n",
      "dl_max_features: 10000\n",
      "dl_max_length: 100\n",
      "test_size: 0.2\n",
      "random_state: 42\n"
     ]
    }
   ],
   "source": [
    "# Preprocessing configuration\n",
    "PREPROCESSING_CONFIG = {\n",
    "    # For TF-IDF\n",
    "    'tfidf_max_features': 5000,\n",
    "    'tfidf_ngram_range': (1, 2),\n",
    "    'tfidf_min_df': 5,\n",
    "    \n",
    "    # For Deep Learning Tokenization\n",
    "    'dl_max_features': 10000,\n",
    "    'dl_max_length': 100,\n",
    "    'test_size': 0.2,\n",
    "    'random_state': 42\n",
    "}\n",
    "\n",
    "print(\"\\nPreprocessing configuration:\")\n",
    "for key, value in PREPROCESSING_CONFIG.items():\n",
    "    print(f\"{key}: {value}\")"
   ]
  },
  {
   "cell_type": "code",
   "execution_count": 19,
   "id": "476bd4e9",
   "metadata": {},
   "outputs": [
    {
     "name": "stdout",
     "output_type": "stream",
     "text": [
      "\n",
      "Train/Test Split:\n",
      "Training samples: 11712\n",
      "Testing samples: 2928\n",
      "Training label distribution: [7343 2479 1890]\n",
      "Testing label distribution: [1835  620  473]\n"
     ]
    }
   ],
   "source": [
    "# Create train/test splits\n",
    "X = cleaned_df['cleaned_text'].values\n",
    "y = cleaned_df['label_numeric'].values\n",
    "\n",
    "X_train, X_test, y_train, y_test = train_test_split(\n",
    "    X, y, \n",
    "    test_size=PREPROCESSING_CONFIG['test_size'], \n",
    "    random_state=PREPROCESSING_CONFIG['random_state'],\n",
    "    stratify=y\n",
    ")\n",
    "\n",
    "print(f\"\\nTrain/Test Split:\")\n",
    "print(f\"Training samples: {len(X_train)}\")\n",
    "print(f\"Testing samples: {len(X_test)}\")\n",
    "print(f\"Training label distribution: {np.bincount(y_train)}\")\n",
    "print(f\"Testing label distribution: {np.bincount(y_test)}\")"
   ]
  },
  {
   "cell_type": "code",
   "execution_count": 20,
   "id": "a94a7f0b",
   "metadata": {},
   "outputs": [
    {
     "name": "stdout",
     "output_type": "stream",
     "text": [
      "Saved: data/X_train.csv, data/X_test.csv, data/y_train.csv, data/y_test.csv\n"
     ]
    }
   ],
   "source": [
    "# Save train/test splits\n",
    "train_df = pd.DataFrame({'cleaned_text': X_train})\n",
    "test_df = pd.DataFrame({'cleaned_text': X_test})\n",
    "train_labels = pd.DataFrame({'label_numeric': y_train})\n",
    "test_labels = pd.DataFrame({'label_numeric': y_test})\n",
    "\n",
    "train_df.to_csv('data/X_train.csv', index=False)\n",
    "test_df.to_csv('data/X_test.csv', index=False)\n",
    "train_labels.to_csv('data/y_train.csv', index=False)\n",
    "test_labels.to_csv('data/y_test.csv', index=False)\n",
    "\n",
    "print(\"Saved: data/X_train.csv, data/X_test.csv, data/y_train.csv, data/y_test.csv\")"
   ]
  },
  {
   "cell_type": "code",
   "execution_count": 21,
   "id": "74eef1d0",
   "metadata": {},
   "outputs": [
    {
     "name": "stdout",
     "output_type": "stream",
     "text": [
      "\n",
      "Creating TF-IDF vectors...\n"
     ]
    }
   ],
   "source": [
    "# Create TF-IDF vectors for traditional ML\n",
    "print(\"\\nCreating TF-IDF vectors...\")\n",
    "tfidf_vectorizer = TfidfVectorizer(\n",
    "    max_features=PREPROCESSING_CONFIG['tfidf_max_features'],\n",
    "    ngram_range=PREPROCESSING_CONFIG['tfidf_ngram_range'],\n",
    "    min_df=PREPROCESSING_CONFIG['tfidf_min_df'],\n",
    "    stop_words='english',\n",
    "    lowercase=True,\n",
    "    strip_accents='unicode'\n",
    ")\n"
   ]
  },
  {
   "cell_type": "code",
   "execution_count": 22,
   "id": "1a76a86e",
   "metadata": {},
   "outputs": [
    {
     "name": "stdout",
     "output_type": "stream",
     "text": [
      "TF-IDF training shape: (11712, 3453)\n",
      "TF-IDF testing shape: (2928, 3453)\n",
      "TF-IDF vocabulary size: 3453\n"
     ]
    }
   ],
   "source": [
    "# Fit on training data and transform both train and test\n",
    "X_train_tfidf = tfidf_vectorizer.fit_transform(X_train)\n",
    "X_test_tfidf = tfidf_vectorizer.transform(X_test)\n",
    "\n",
    "print(f\"TF-IDF training shape: {X_train_tfidf.shape}\")\n",
    "print(f\"TF-IDF testing shape: {X_test_tfidf.shape}\")\n",
    "print(f\"TF-IDF vocabulary size: {len(tfidf_vectorizer.vocabulary_)}\")"
   ]
  },
  {
   "cell_type": "code",
   "execution_count": 23,
   "id": "500e57fb",
   "metadata": {},
   "outputs": [
    {
     "name": "stdout",
     "output_type": "stream",
     "text": [
      "Saved: data/X_train_tfidf.pkl, data/X_test_tfidf.pkl, data/tfidf_vectorizer.pkl\n"
     ]
    }
   ],
   "source": [
    "# Save TF-IDF vectors and vectorizer\n",
    "with open('data/X_train_tfidf.pkl', 'wb') as f:\n",
    "    pickle.dump(X_train_tfidf, f)\n",
    "    \n",
    "with open('data/X_test_tfidf.pkl', 'wb') as f:\n",
    "    pickle.dump(X_test_tfidf, f)\n",
    "    \n",
    "with open('data/tfidf_vectorizer.pkl', 'wb') as f:\n",
    "    pickle.dump(tfidf_vectorizer, f)\n",
    "\n",
    "print(\"Saved: data/X_train_tfidf.pkl, data/X_test_tfidf.pkl, data/tfidf_vectorizer.pkl\")"
   ]
  },
  {
   "cell_type": "code",
   "execution_count": 24,
   "id": "60602424",
   "metadata": {},
   "outputs": [
    {
     "name": "stdout",
     "output_type": "stream",
     "text": [
      "\n",
      "Creating tokenized sequences for deep learning...\n"
     ]
    }
   ],
   "source": [
    "# Create tokenized sequences for deep learning\n",
    "print(\"\\nCreating tokenized sequences for deep learning...\")\n",
    "tokenizer = Tokenizer(\n",
    "    num_words=PREPROCESSING_CONFIG['dl_max_features'],\n",
    "    oov_token='<OOV>',\n",
    "    lower=True\n",
    ")"
   ]
  },
  {
   "cell_type": "code",
   "execution_count": 25,
   "id": "28b758a4",
   "metadata": {},
   "outputs": [
    {
     "name": "stdout",
     "output_type": "stream",
     "text": [
      "Tokenized training shape: (11712, 100)\n",
      "Tokenized testing shape: (2928, 100)\n",
      "Vocabulary size: 11666\n"
     ]
    }
   ],
   "source": [
    "# Fit tokenizer on training data\n",
    "tokenizer.fit_on_texts(X_train)\n",
    "\n",
    "# Convert texts to sequences\n",
    "X_train_seq = tokenizer.texts_to_sequences(X_train)\n",
    "X_test_seq = tokenizer.texts_to_sequences(X_test)\n",
    "\n",
    "# Pad sequences to same length\n",
    "X_train_pad = pad_sequences(\n",
    "    X_train_seq, \n",
    "    maxlen=PREPROCESSING_CONFIG['dl_max_length'],\n",
    "    padding='post',\n",
    "    truncating='post'\n",
    ")\n",
    "\n",
    "X_test_pad = pad_sequences(\n",
    "    X_test_seq,\n",
    "    maxlen=PREPROCESSING_CONFIG['dl_max_length'], \n",
    "    padding='post',\n",
    "    truncating='post'\n",
    ")\n",
    "\n",
    "print(f\"Tokenized training shape: {X_train_pad.shape}\")\n",
    "print(f\"Tokenized testing shape: {X_test_pad.shape}\")\n",
    "print(f\"Vocabulary size: {len(tokenizer.word_index)}\")"
   ]
  },
  {
   "cell_type": "code",
   "execution_count": 26,
   "id": "eb5cc4bc",
   "metadata": {},
   "outputs": [
    {
     "name": "stdout",
     "output_type": "stream",
     "text": [
      "Average sequence length: 16.8\n",
      "Max sequence length: 32\n",
      "Sequences longer than 100: 0\n"
     ]
    }
   ],
   "source": [
    "# Analyze sequence lengths\n",
    "train_seq_lengths = [len(seq) for seq in X_train_seq]\n",
    "print(f\"Average sequence length: {np.mean(train_seq_lengths):.1f}\")\n",
    "print(f\"Max sequence length: {np.max(train_seq_lengths)}\")\n",
    "print(f\"Sequences longer than {PREPROCESSING_CONFIG['dl_max_length']}: {np.sum(np.array(train_seq_lengths) > PREPROCESSING_CONFIG['dl_max_length'])}\")\n"
   ]
  },
  {
   "cell_type": "code",
   "execution_count": 27,
   "id": "1a8355e1",
   "metadata": {},
   "outputs": [],
   "source": [
    "# Prepare tokenized data dictionary\n",
    "tokenized_data = {\n",
    "    'X_train_seq': X_train_seq,\n",
    "    'X_test_seq': X_test_seq,\n",
    "    'X_train_pad': X_train_pad,\n",
    "    'X_test_pad': X_test_pad,\n",
    "    'max_length': PREPROCESSING_CONFIG['dl_max_length'],\n",
    "    'vocab_size': len(tokenizer.word_index) + 1,  # +1 for padding token\n",
    "    'word_to_index': tokenizer.word_index,\n",
    "    'index_to_word': {v: k for k, v in tokenizer.word_index.items()}\n",
    "}"
   ]
  },
  {
   "cell_type": "code",
   "execution_count": 28,
   "id": "eb8fac71",
   "metadata": {},
   "outputs": [
    {
     "name": "stdout",
     "output_type": "stream",
     "text": [
      "Saved: data/tokenized_sequences.pkl, data/tokenizer.pkl\n"
     ]
    }
   ],
   "source": [
    "# Save tokenized data\n",
    "with open('data/tokenized_sequences.pkl', 'wb') as f:\n",
    "    pickle.dump(tokenized_data, f)\n",
    "    \n",
    "with open('data/tokenizer.pkl', 'wb') as f:\n",
    "    pickle.dump(tokenizer, f)\n",
    "\n",
    "print(\"Saved: data/tokenized_sequences.pkl, data/tokenizer.pkl\")"
   ]
  },
  {
   "cell_type": "code",
   "execution_count": 29,
   "id": "ae6a577a",
   "metadata": {},
   "outputs": [],
   "source": [
    "# Create evaluation utility functions\n",
    "def evaluate_model(y_true, y_pred, model_name):\n",
    "    \"\"\"Standard evaluation function for both persons to use\"\"\"\n",
    "    from sklearn.metrics import accuracy_score, f1_score, precision_score, recall_score, classification_report\n",
    "    \n",
    "    accuracy = accuracy_score(y_true, y_pred)\n",
    "    f1_weighted = f1_score(y_true, y_pred, average='weighted')\n",
    "    precision = precision_score(y_true, y_pred, average='weighted')\n",
    "    recall = recall_score(y_true, y_pred, average='weighted')\n",
    "    \n",
    "    results = {\n",
    "        'model_name': model_name,\n",
    "        'accuracy': accuracy,\n",
    "        'f1_weighted': f1_weighted,\n",
    "        'precision': precision,\n",
    "        'recall': recall,\n",
    "        'classification_report': classification_report(y_true, y_pred)\n",
    "    }\n",
    "    \n",
    "    print(f\"\\n{model_name} Results:\")\n",
    "    print(f\"Accuracy: {accuracy:.4f}\")\n",
    "    print(f\"F1-Score (weighted): {f1_weighted:.4f}\")\n",
    "    print(f\"Precision (weighted): {precision:.4f}\")\n",
    "    print(f\"Recall (weighted): {recall:.4f}\")\n",
    "    \n",
    "    return results\n",
    "\n",
    "def plot_confusion_matrix(y_true, y_pred, labels=['Negative', 'Neutral', 'Positive'], title='Confusion Matrix'):\n",
    "    \"\"\"Standard confusion matrix plotting function\"\"\"\n",
    "    from sklearn.metrics import confusion_matrix\n",
    "    \n",
    "    cm = confusion_matrix(y_true, y_pred)\n",
    "    plt.figure(figsize=(8, 6))\n",
    "    sns.heatmap(cm, annot=True, fmt='d', cmap='Blues', \n",
    "                xticklabels=labels, yticklabels=labels)\n",
    "    plt.title(title)\n",
    "    plt.ylabel('True Label')\n",
    "    plt.xlabel('Predicted Label')\n",
    "    plt.show()\n",
    "    return cm\n"
   ]
  },
  {
   "cell_type": "code",
   "execution_count": 30,
   "id": "a5aa0bfb",
   "metadata": {},
   "outputs": [
    {
     "name": "stdout",
     "output_type": "stream",
     "text": [
      "Saved: evaluation_utils.py\n"
     ]
    }
   ],
   "source": [
    "# Save evaluation functions\n",
    "with open('evaluation_utils.py', 'w') as f:\n",
    "    f.write('''# Evaluation utilities for sentiment analysis models\n",
    "\n",
    "from sklearn.metrics import accuracy_score, f1_score, precision_score, recall_score, classification_report, confusion_matrix\n",
    "import matplotlib.pyplot as plt\n",
    "import seaborn as sns\n",
    "\n",
    "def evaluate_model(y_true, y_pred, model_name):\n",
    "    \"\"\"Standard evaluation function for both persons to use\"\"\"\n",
    "    accuracy = accuracy_score(y_true, y_pred)\n",
    "    f1_weighted = f1_score(y_true, y_pred, average='weighted')\n",
    "    precision = precision_score(y_true, y_pred, average='weighted')\n",
    "    recall = recall_score(y_true, y_pred, average='weighted')\n",
    "    \n",
    "    results = {\n",
    "        'model_name': model_name,\n",
    "        'accuracy': accuracy,\n",
    "        'f1_weighted': f1_weighted,\n",
    "        'precision': precision,\n",
    "        'recall': recall,\n",
    "        'classification_report': classification_report(y_true, y_pred)\n",
    "    }\n",
    "    \n",
    "    print(f\"\\\\n{model_name} Results:\")\n",
    "    print(f\"Accuracy: {accuracy:.4f}\")\n",
    "    print(f\"F1-Score (weighted): {f1_weighted:.4f}\")\n",
    "    print(f\"Precision (weighted): {precision:.4f}\")\n",
    "    print(f\"Recall (weighted): {recall:.4f}\")\n",
    "    \n",
    "    return results\n",
    "\n",
    "def plot_confusion_matrix(y_true, y_pred, labels=['Negative', 'Neutral', 'Positive'], title='Confusion Matrix'):\n",
    "    \"\"\"Standard confusion matrix plotting function\"\"\"\n",
    "    cm = confusion_matrix(y_true, y_pred)\n",
    "    plt.figure(figsize=(8, 6))\n",
    "    sns.heatmap(cm, annot=True, fmt='d', cmap='Blues', \n",
    "                xticklabels=labels, yticklabels=labels)\n",
    "    plt.title(title)\n",
    "    plt.ylabel('True Label')\n",
    "    plt.xlabel('Predicted Label')\n",
    "    plt.show()\n",
    "    return cm\n",
    "''')\n",
    "\n",
    "print(\"Saved: evaluation_utils.py\")"
   ]
  },
  {
   "cell_type": "code",
   "execution_count": 31,
   "id": "3f6302a7",
   "metadata": {},
   "outputs": [
    {
     "name": "stdout",
     "output_type": "stream",
     "text": [
      "\n",
      "==================================================\n",
      "QUALITY CHECKS\n",
      "==================================================\n",
      "Empty texts after cleaning: 0\n",
      "\n",
      "Class distribution in final dataset:\n",
      "label_numeric\n",
      "0    9178\n",
      "1    3099\n",
      "2    2363\n",
      "Name: count, dtype: int64\n",
      "\n",
      "Train/test distribution similarity (p-value): 0.9996\n",
      "✓ Train and test distributions are similar\n",
      "\n",
      "Vocabulary statistics:\n",
      "TF-IDF vocabulary size: 3453\n",
      "Deep learning vocabulary size: 11666\n",
      "\n",
      "Sequence length analysis:\n",
      "Average sequence length: 16.8\n",
      "Max length setting: 100\n",
      "✓ Max length setting is appropriate\n",
      "\n",
      "==================================================\n",
      "PREPROCESSING COMPLETE!\n",
      "==================================================\n"
     ]
    }
   ],
   "source": [
    "# Quality checks\n",
    "print(\"\\n\" + \"=\"*50)\n",
    "print(\"QUALITY CHECKS\")\n",
    "print(\"=\"*50)\n",
    "\n",
    "# Check no empty texts\n",
    "empty_texts = (cleaned_df['cleaned_text'].str.len() == 0).sum()\n",
    "print(f\"Empty texts after cleaning: {empty_texts}\")\n",
    "\n",
    "# Check class distribution preserved\n",
    "print(f\"\\nClass distribution in final dataset:\")\n",
    "print(cleaned_df['label_numeric'].value_counts().sort_index())\n",
    "\n",
    "# Check train/test have same distribution\n",
    "from scipy.stats import chi2_contingency\n",
    "train_dist = np.bincount(y_train, minlength=3)\n",
    "test_dist = np.bincount(y_test, minlength=3)\n",
    "chi2, p_value = chi2_contingency([train_dist, test_dist])[:2]\n",
    "print(f\"\\nTrain/test distribution similarity (p-value): {p_value:.4f}\")\n",
    "if p_value > 0.05:\n",
    "    print(\"✓ Train and test distributions are similar\")\n",
    "else:\n",
    "    print(\"⚠ Train and test distributions might be different\")\n",
    "\n",
    "# Check vocabulary size\n",
    "print(f\"\\nVocabulary statistics:\")\n",
    "print(f\"TF-IDF vocabulary size: {len(tfidf_vectorizer.vocabulary_)}\")\n",
    "print(f\"Deep learning vocabulary size: {len(tokenizer.word_index)}\")\n",
    "\n",
    "# Check average sequence length vs max_length\n",
    "avg_seq_len = np.mean([len(seq) for seq in X_train_seq])\n",
    "print(f\"\\nSequence length analysis:\")\n",
    "print(f\"Average sequence length: {avg_seq_len:.1f}\")\n",
    "print(f\"Max length setting: {PREPROCESSING_CONFIG['dl_max_length']}\")\n",
    "if avg_seq_len < PREPROCESSING_CONFIG['dl_max_length'] * 0.8:\n",
    "    print(\"✓ Max length setting is appropriate\")\n",
    "\n",
    "print(\"\\n\" + \"=\"*50)\n",
    "print(\"PREPROCESSING COMPLETE!\")\n",
    "print(\"=\"*50)"
   ]
  },
  {
   "cell_type": "code",
   "execution_count": 32,
   "id": "f96058cd",
   "metadata": {},
   "outputs": [
    {
     "name": "stdout",
     "output_type": "stream",
     "text": [
      "\n",
      "Files created for Person B:\n",
      "✓ data/cleaned_data.csv\n",
      "✓ data/X_train.csv\n",
      "✓ data/X_test.csv\n",
      "✓ data/y_train.csv\n",
      "✓ data/y_test.csv\n",
      "✓ data/X_train_tfidf.pkl\n",
      "✓ data/X_test_tfidf.pkl\n",
      "✓ data/tfidf_vectorizer.pkl\n",
      "✓ data/tokenized_sequences.pkl\n",
      "✓ data/tokenizer.pkl\n",
      "✓ evaluation_utils.py\n",
      "\n",
      "Dataset summary:\n",
      "Total samples: 14640\n",
      "Training samples: 11712\n",
      "Testing samples: 2928\n",
      "Average words per tweet: 16.8\n",
      "Sentiment distribution: Negative: 9178, Neutral: 3099, Positive: 2363\n",
      "\n",
      "🎉 Ready for Person B to start working!\n"
     ]
    }
   ],
   "source": [
    "# Summary of files created\n",
    "files_created = [\n",
    "    'data/cleaned_data.csv',\n",
    "    'data/X_train.csv', 'data/X_test.csv', 'data/y_train.csv', 'data/y_test.csv',\n",
    "    'data/X_train_tfidf.pkl', 'data/X_test_tfidf.pkl', 'data/tfidf_vectorizer.pkl',\n",
    "    'data/tokenized_sequences.pkl', 'data/tokenizer.pkl',\n",
    "    'evaluation_utils.py'\n",
    "]\n",
    "\n",
    "print(f\"\\nFiles created for Person B:\")\n",
    "for file in files_created:\n",
    "    if os.path.exists(file):\n",
    "        print(f\"✓ {file}\")\n",
    "    else:\n",
    "        print(f\"✗ {file} - NOT FOUND!\")\n",
    "\n",
    "print(f\"\\nDataset summary:\")\n",
    "print(f\"Total samples: {len(cleaned_df)}\")\n",
    "print(f\"Training samples: {len(X_train)}\")\n",
    "print(f\"Testing samples: {len(X_test)}\")\n",
    "print(f\"Average words per tweet: {cleaned_df['cleaned_word_count'].mean():.1f}\")\n",
    "print(f\"Sentiment distribution: Negative: {(y_train==0).sum() + (y_test==0).sum()}, Neutral: {(y_train==1).sum() + (y_test==1).sum()}, Positive: {(y_train==2).sum() + (y_test==2).sum()}\")\n",
    "\n",
    "print(\"\\n🎉 Ready for Person B to start working!\")"
   ]
  }
 ],
 "metadata": {
  "kernelspec": {
   "display_name": "base",
   "language": "python",
   "name": "python3"
  },
  "language_info": {
   "codemirror_mode": {
    "name": "ipython",
    "version": 3
   },
   "file_extension": ".py",
   "mimetype": "text/x-python",
   "name": "python",
   "nbconvert_exporter": "python",
   "pygments_lexer": "ipython3",
   "version": "3.11.7"
  }
 },
 "nbformat": 4,
 "nbformat_minor": 5
}
