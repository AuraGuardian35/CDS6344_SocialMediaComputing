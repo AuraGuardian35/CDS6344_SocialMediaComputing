{
 "cells": [
  {
   "cell_type": "markdown",
   "id": "cc30dfad",
   "metadata": {},
   "source": [
    "# Exercise 3 (Tutorial 10-11)\n",
    "\n",
    "Dataset: https://www.kaggle.com/datasets/andrewmvd/trip-advisor-hotel-reviews/data"
   ]
  },
  {
   "cell_type": "markdown",
   "id": "416bec6f",
   "metadata": {},
   "source": [
    "## Task 1: Dependency-based Parsing\n",
    "Source: https://towardsdatascience.com/natural-language-processing-dependency-parsing-cf094bbbe3f7/"
   ]
  },
  {
   "cell_type": "markdown",
   "id": "b86200db",
   "metadata": {},
   "source": [
    "Import Libraries and Load Data"
   ]
  },
  {
   "cell_type": "code",
   "execution_count": 4,
   "id": "51702f60",
   "metadata": {},
   "outputs": [
    {
     "name": "stdout",
     "output_type": "stream",
     "text": [
      "Dataset shape: (20491, 2)\n"
     ]
    }
   ],
   "source": [
    "import pandas as pd\n",
    "import spacy\n",
    "from spacy import displacy\n",
    "import numpy as np\n",
    "from textblob import TextBlob\n",
    "from collections import defaultdict, Counter\n",
    "import re\n",
    "\n",
    "# Load spaCy model\n",
    "nlp = spacy.load(\"en_core_web_sm\")\n",
    "\n",
    "df = pd.read_csv('tripadvisor_hotel_reviews.csv')\n",
    "print(f\"Dataset shape: {df.shape}\")\n"
   ]
  },
  {
   "cell_type": "markdown",
   "id": "a826d4ef",
   "metadata": {},
   "source": [
    "Sentiment Lexicon"
   ]
  },
  {
   "cell_type": "code",
   "execution_count": 7,
   "id": "81a23973",
   "metadata": {},
   "outputs": [
    {
     "name": "stdout",
     "output_type": "stream",
     "text": [
      "Sample text: The food was amazing and the service was terrible\n",
      "Sentiment score: -0.19999999999999996\n"
     ]
    }
   ],
   "source": [
    "# Using TextBlob's built-in sentiment polarity for simplicity\n",
    "def get_sentiment_score(text):\n",
    "    \"\"\"Get sentiment polarity using TextBlob\"\"\"\n",
    "    blob = TextBlob(text)\n",
    "    return blob.sentiment.polarity  # Returns value between -1 (negative) and 1 (positive)\n",
    "\n",
    "# Test the sentiment function\n",
    "sample_text = \"The food was amazing and the service was terrible\"\n",
    "print(f\"Sample text: {sample_text}\")\n",
    "print(f\"Sentiment score: {get_sentiment_score(sample_text)}\")"
   ]
  },
  {
   "cell_type": "markdown",
   "id": "65b38c58",
   "metadata": {},
   "source": [
    "Dependency Parsing Function"
   ]
  },
  {
   "cell_type": "code",
   "execution_count": 8,
   "id": "0fb01566",
   "metadata": {},
   "outputs": [
    {
     "name": "stdout",
     "output_type": "stream",
     "text": [
      "Text: nice hotel expensive parking got good deal stay hotel anniversary, arrived late evening took advice previous reviews did valet parking, check quick easy, little disappointed non-existent view room roo\n",
      "--------------------------------------------------------------------------------\n",
      "Token           | POS      | Dependency   | Head            | Children\n",
      "--------------------------------------------------------------------------------\n",
      "nice            | ADJ      | amod         | parking         | []\n",
      "hotel           | NOUN     | nmod         | parking         | []\n",
      "expensive       | ADJ      | amod         | parking         | []\n",
      "parking         | NOUN     | nsubj        | got             | ['nice', 'hotel', 'expensive']\n",
      "got             | VERB     | ROOT         | got             | ['parking', 'stay', ',', 'arrived', 'took']\n",
      "good            | ADJ      | amod         | deal            | []\n",
      "deal            | NOUN     | nsubj        | stay            | ['good']\n",
      "stay            | VERB     | ccomp        | got             | ['deal', 'anniversary']\n",
      "hotel           | NOUN     | compound     | anniversary     | []\n",
      "anniversary     | NOUN     | attr         | stay            | ['hotel']\n",
      ",               | PUNCT    | punct        | got             | []\n",
      "arrived         | VERB     | conj         | got             | ['evening']\n",
      "late            | ADJ      | amod         | evening         | []\n",
      "evening         | NOUN     | npadvmod     | arrived         | ['late']\n",
      "took            | VERB     | conj         | got             | ['advice', 'reviews', 'parking', ',', 'check']\n",
      "advice          | NOUN     | dobj         | took            | []\n",
      "previous        | ADJ      | amod         | reviews         | []\n",
      "reviews         | NOUN     | dobj         | took            | ['previous']\n",
      "did             | AUX      | aux          | valet           | []\n",
      "valet           | ADJ      | amod         | parking         | ['did']\n",
      "parking         | NOUN     | dobj         | took            | ['valet']\n",
      ",               | PUNCT    | punct        | took            | []\n",
      "check           | VERB     | conj         | took            | ['roo']\n",
      "quick           | ADJ      | amod         | easy            | []\n",
      "easy            | ADJ      | amod         | room            | ['quick', ',']\n",
      ",               | PUNCT    | punct        | easy            | []\n",
      "little          | ADJ      | advmod       | disappointed    | []\n",
      "disappointed    | ADJ      | amod         | room            | ['little']\n",
      "non             | ADJ      | amod         | room            | []\n",
      "-               | ADJ      | amod         | room            | []\n",
      "existent        | ADJ      | amod         | room            | []\n",
      "view            | NOUN     | compound     | room            | []\n",
      "room            | NOUN     | compound     | roo             | ['easy', 'disappointed', 'non', '-', 'existent', 'view']\n",
      "roo             | PROPN    | dobj         | check           | ['room']\n"
     ]
    }
   ],
   "source": [
    "def analyze_dependencies(text):\n",
    "    \"\"\"\n",
    "    Analyze dependencies and extract opinion-target pairs\n",
    "    \"\"\"\n",
    "    doc = nlp(text)\n",
    "    \n",
    "    # Store dependency information\n",
    "    dependencies = []\n",
    "    \n",
    "    print(f\"Text: {text}\")\n",
    "    print(\"-\" * 80)\n",
    "    print(f\"{'Token':<15} | {'POS':<8} | {'Dependency':<12} | {'Head':<15} | {'Children'}\")\n",
    "    print(\"-\" * 80)\n",
    "    \n",
    "    for token in doc:\n",
    "        children = [child.text for child in token.children]\n",
    "        dependencies.append({\n",
    "            'token': token.text,\n",
    "            'pos': token.pos_,\n",
    "            'dep': token.dep_,\n",
    "            'head': token.head.text,\n",
    "            'children': children\n",
    "        })\n",
    "        \n",
    "        print(f\"{token.text:<15} | {token.pos_:<8} | {token.dep_:<12} | {token.head.text:<15} | {children}\")\n",
    "    \n",
    "    return dependencies, doc\n",
    "\n",
    "# Test with a sample review\n",
    "sample_review = df['Review'].iloc[0][:200]  # First 200 chars of first review\n",
    "dependencies, doc = analyze_dependencies(sample_review)"
   ]
  },
  {
   "cell_type": "markdown",
   "id": "2b46e888",
   "metadata": {},
   "source": [
    "Extract Opinion-Target Pairs"
   ]
  },
  {
   "cell_type": "code",
   "execution_count": 9,
   "id": "54e25280",
   "metadata": {},
   "outputs": [
    {
     "name": "stdout",
     "output_type": "stream",
     "text": [
      "Opinion-Target Pairs:\n",
      "  Opinion: 'nice' -> Target: 'parking'\n",
      "  Opinion: 'expensive' -> Target: 'parking'\n",
      "  Opinion: 'good' -> Target: 'deal'\n",
      "  Opinion: 'late' -> Target: 'evening'\n",
      "  Opinion: 'took' -> Target: 'advice'\n",
      "  Opinion: 'took' -> Target: 'reviews'\n",
      "  Opinion: 'took' -> Target: 'parking'\n",
      "  Opinion: 'previous' -> Target: 'reviews'\n",
      "  Opinion: 'valet' -> Target: 'parking'\n",
      "  Opinion: 'check' -> Target: 'roo'\n",
      "  Opinion: 'quick' -> Target: 'easy'\n",
      "  Opinion: 'easy' -> Target: 'room'\n",
      "  Opinion: 'disappointed' -> Target: 'room'\n",
      "  Opinion: 'non' -> Target: 'room'\n",
      "  Opinion: '-' -> Target: 'room'\n",
      "  Opinion: 'existent' -> Target: 'room'\n"
     ]
    }
   ],
   "source": [
    "def extract_opinion_target_pairs(text):\n",
    "    \"\"\"\n",
    "    Extract opinion words and their targets using dependency parsing\n",
    "    \"\"\"\n",
    "    doc = nlp(text)\n",
    "    pairs = []\n",
    "    \n",
    "    for token in doc:\n",
    "        # Look for adjectives that might be opinions\n",
    "        if token.pos_ == 'ADJ':\n",
    "            # Find what the adjective is describing\n",
    "            if token.dep_ == 'amod':  # Adjectival modifier\n",
    "                target = token.head.text\n",
    "                opinion = token.text\n",
    "                pairs.append((opinion, target))\n",
    "        \n",
    "        # Look for verbs with objects (another opinion pattern)\n",
    "        elif token.pos_ == 'VERB':\n",
    "            objects = [child.text for child in token.children if child.dep_ == 'dobj']\n",
    "            if objects:\n",
    "                for obj in objects:\n",
    "                    pairs.append((token.text, obj))\n",
    "    \n",
    "    return pairs\n",
    "\n",
    "# Test opinion-target extraction\n",
    "sample_pairs = extract_opinion_target_pairs(sample_review)\n",
    "print(\"Opinion-Target Pairs:\")\n",
    "for opinion, target in sample_pairs:\n",
    "    print(f\"  Opinion: '{opinion}' -> Target: '{target}'\")"
   ]
  },
  {
   "cell_type": "markdown",
   "id": "4a5e5947",
   "metadata": {},
   "source": [
    "Sentiment Analysis with Dependency Parsing"
   ]
  },
  {
   "cell_type": "code",
   "execution_count": 10,
   "id": "28e4f4dc",
   "metadata": {},
   "outputs": [
    {
     "name": "stdout",
     "output_type": "stream",
     "text": [
      "Dependency-based Sentiment Analysis Result:\n",
      "Overall Sentiment: positive (Score: 0.018)\n",
      "\n",
      "Opinion-Target Analysis:\n",
      "  'nice' about 'parking': positive (0.600)\n",
      "  'expensive' about 'parking': negative (-0.500)\n",
      "  'good' about 'deal': positive (0.700)\n",
      "  'late' about 'evening': negative (-0.300)\n",
      "  'took' about 'advice': neutral (0.000)\n",
      "  'took' about 'reviews': neutral (0.000)\n",
      "  'took' about 'parking': neutral (0.000)\n",
      "  'previous' about 'reviews': negative (-0.167)\n",
      "  'valet' about 'parking': neutral (0.000)\n",
      "  'check' about 'roo': neutral (0.000)\n",
      "  'quick' about 'easy': positive (0.333)\n",
      "  'easy' about 'room': positive (0.433)\n",
      "  'disappointed' about 'room': negative (-0.750)\n",
      "  'non' about 'room': neutral (0.000)\n",
      "  '-' about 'room': neutral (0.000)\n",
      "  'existent' about 'room': neutral (0.000)\n"
     ]
    }
   ],
   "source": [
    "def dependency_based_sentiment_analysis(text):\n",
    "    \"\"\"\n",
    "    Perform sentiment analysis using dependency parsing\n",
    "    \"\"\"\n",
    "    doc = nlp(text)\n",
    "    \n",
    "    # Extract opinion-target pairs\n",
    "    pairs = extract_opinion_target_pairs(text)\n",
    "    \n",
    "    # Analyze sentiment of each pair\n",
    "    sentiment_results = []\n",
    "    \n",
    "    for opinion, target in pairs:\n",
    "        # Get sentiment of the opinion word\n",
    "        opinion_sentiment = get_sentiment_score(opinion)\n",
    "        \n",
    "        sentiment_results.append({\n",
    "            'opinion': opinion,\n",
    "            'target': target,\n",
    "            'sentiment_score': opinion_sentiment,\n",
    "            'sentiment_label': 'positive' if opinion_sentiment > 0 else 'negative' if opinion_sentiment < 0 else 'neutral'\n",
    "        })\n",
    "    \n",
    "    # Overall text sentiment\n",
    "    overall_sentiment = get_sentiment_score(text)\n",
    "    \n",
    "    return {\n",
    "        'text': text,\n",
    "        'opinion_target_pairs': sentiment_results,\n",
    "        'overall_sentiment': overall_sentiment,\n",
    "        'overall_label': 'positive' if overall_sentiment > 0 else 'negative' if overall_sentiment < 0 else 'neutral'\n",
    "    }\n",
    "\n",
    "# Test the complete function\n",
    "result = dependency_based_sentiment_analysis(sample_review)\n",
    "print(\"Dependency-based Sentiment Analysis Result:\")\n",
    "print(f\"Overall Sentiment: {result['overall_label']} (Score: {result['overall_sentiment']:.3f})\")\n",
    "print(\"\\nOpinion-Target Analysis:\")\n",
    "for pair in result['opinion_target_pairs']:\n",
    "    print(f\"  '{pair['opinion']}' about '{pair['target']}': {pair['sentiment_label']} ({pair['sentiment_score']:.3f})\")"
   ]
  },
  {
   "cell_type": "markdown",
   "id": "1dfc5177",
   "metadata": {},
   "source": [
    "Apply to Multiple Reviews"
   ]
  },
  {
   "cell_type": "code",
   "execution_count": 12,
   "id": "a162350e",
   "metadata": {},
   "outputs": [
    {
     "name": "stdout",
     "output_type": "stream",
     "text": [
      "Results Summary:\n"
     ]
    },
    {
     "data": {
      "text/html": [
       "<div>\n",
       "<style scoped>\n",
       "    .dataframe tbody tr th:only-of-type {\n",
       "        vertical-align: middle;\n",
       "    }\n",
       "\n",
       "    .dataframe tbody tr th {\n",
       "        vertical-align: top;\n",
       "    }\n",
       "\n",
       "    .dataframe thead th {\n",
       "        text-align: right;\n",
       "    }\n",
       "</style>\n",
       "<table border=\"1\" class=\"dataframe\">\n",
       "  <thead>\n",
       "    <tr style=\"text-align: right;\">\n",
       "      <th></th>\n",
       "      <th>review_id</th>\n",
       "      <th>actual_rating</th>\n",
       "      <th>predicted_sentiment</th>\n",
       "      <th>sentiment_score</th>\n",
       "      <th>opinion_pairs_count</th>\n",
       "    </tr>\n",
       "  </thead>\n",
       "  <tbody>\n",
       "    <tr>\n",
       "      <th>0</th>\n",
       "      <td>10726</td>\n",
       "      <td>1</td>\n",
       "      <td>negative</td>\n",
       "      <td>-0.143333</td>\n",
       "      <td>8</td>\n",
       "    </tr>\n",
       "    <tr>\n",
       "      <th>1</th>\n",
       "      <td>14919</td>\n",
       "      <td>4</td>\n",
       "      <td>positive</td>\n",
       "      <td>0.214394</td>\n",
       "      <td>98</td>\n",
       "    </tr>\n",
       "    <tr>\n",
       "      <th>2</th>\n",
       "      <td>19098</td>\n",
       "      <td>3</td>\n",
       "      <td>positive</td>\n",
       "      <td>0.620000</td>\n",
       "      <td>3</td>\n",
       "    </tr>\n",
       "    <tr>\n",
       "      <th>3</th>\n",
       "      <td>2450</td>\n",
       "      <td>4</td>\n",
       "      <td>positive</td>\n",
       "      <td>0.364368</td>\n",
       "      <td>84</td>\n",
       "    </tr>\n",
       "    <tr>\n",
       "      <th>4</th>\n",
       "      <td>960</td>\n",
       "      <td>5</td>\n",
       "      <td>positive</td>\n",
       "      <td>0.145734</td>\n",
       "      <td>21</td>\n",
       "    </tr>\n",
       "    <tr>\n",
       "      <th>...</th>\n",
       "      <td>...</td>\n",
       "      <td>...</td>\n",
       "      <td>...</td>\n",
       "      <td>...</td>\n",
       "      <td>...</td>\n",
       "    </tr>\n",
       "    <tr>\n",
       "      <th>6142</th>\n",
       "      <td>16688</td>\n",
       "      <td>5</td>\n",
       "      <td>positive</td>\n",
       "      <td>0.190278</td>\n",
       "      <td>14</td>\n",
       "    </tr>\n",
       "    <tr>\n",
       "      <th>6143</th>\n",
       "      <td>3290</td>\n",
       "      <td>4</td>\n",
       "      <td>positive</td>\n",
       "      <td>0.200000</td>\n",
       "      <td>11</td>\n",
       "    </tr>\n",
       "    <tr>\n",
       "      <th>6144</th>\n",
       "      <td>20111</td>\n",
       "      <td>4</td>\n",
       "      <td>positive</td>\n",
       "      <td>0.189451</td>\n",
       "      <td>274</td>\n",
       "    </tr>\n",
       "    <tr>\n",
       "      <th>6145</th>\n",
       "      <td>914</td>\n",
       "      <td>4</td>\n",
       "      <td>positive</td>\n",
       "      <td>0.210606</td>\n",
       "      <td>7</td>\n",
       "    </tr>\n",
       "    <tr>\n",
       "      <th>6146</th>\n",
       "      <td>15960</td>\n",
       "      <td>5</td>\n",
       "      <td>positive</td>\n",
       "      <td>0.193238</td>\n",
       "      <td>29</td>\n",
       "    </tr>\n",
       "  </tbody>\n",
       "</table>\n",
       "<p>6147 rows × 5 columns</p>\n",
       "</div>"
      ],
      "text/plain": [
       "      review_id  actual_rating predicted_sentiment  sentiment_score  \\\n",
       "0         10726              1            negative        -0.143333   \n",
       "1         14919              4            positive         0.214394   \n",
       "2         19098              3            positive         0.620000   \n",
       "3          2450              4            positive         0.364368   \n",
       "4           960              5            positive         0.145734   \n",
       "...         ...            ...                 ...              ...   \n",
       "6142      16688              5            positive         0.190278   \n",
       "6143       3290              4            positive         0.200000   \n",
       "6144      20111              4            positive         0.189451   \n",
       "6145        914              4            positive         0.210606   \n",
       "6146      15960              5            positive         0.193238   \n",
       "\n",
       "      opinion_pairs_count  \n",
       "0                       8  \n",
       "1                      98  \n",
       "2                       3  \n",
       "3                      84  \n",
       "4                      21  \n",
       "...                   ...  \n",
       "6142                   14  \n",
       "6143                   11  \n",
       "6144                  274  \n",
       "6145                    7  \n",
       "6146                   29  \n",
       "\n",
       "[6147 rows x 5 columns]"
      ]
     },
     "execution_count": 12,
     "metadata": {},
     "output_type": "execute_result"
    }
   ],
   "source": [
    "percent = 30  # Change this to 10, 50, 100, etc.\n",
    "sample_reviews = df.sample(frac=percent/100, random_state=42)  # Sample the dataset\n",
    "\n",
    "results = []\n",
    "for idx, row in sample_reviews.iterrows():\n",
    "    review_text = row['Review']\n",
    "    actual_rating = row['Rating']\n",
    "    \n",
    "\n",
    "    \n",
    "    analysis = dependency_based_sentiment_analysis(review_text)\n",
    "    \n",
    "    results.append({\n",
    "        'review_id': idx,\n",
    "        'actual_rating': actual_rating,\n",
    "        'predicted_sentiment': analysis['overall_label'],\n",
    "        'sentiment_score': analysis['overall_sentiment'],\n",
    "        'opinion_pairs_count': len(analysis['opinion_target_pairs'])\n",
    "    })\n",
    "\n",
    "# Display results\n",
    "results_df = pd.DataFrame(results)\n",
    "print(\"Results Summary:\")\n",
    "results_df"
   ]
  },
  {
   "cell_type": "markdown",
   "id": "42c831b2",
   "metadata": {},
   "source": [
    "Basic Evaluation"
   ]
  },
  {
   "cell_type": "code",
   "execution_count": 13,
   "id": "a9526481",
   "metadata": {},
   "outputs": [
    {
     "name": "stdout",
     "output_type": "stream",
     "text": [
      "Accuracy: 0.791\n",
      "\n",
      "Prediction vs Actual:\n",
      "      actual_rating actual_sentiment predicted_sentiment  sentiment_score\n",
      "0                 1         negative            negative        -0.143333\n",
      "1                 4         positive            positive         0.214394\n",
      "2                 3          neutral            positive         0.620000\n",
      "3                 4         positive            positive         0.364368\n",
      "4                 5         positive            positive         0.145734\n",
      "...             ...              ...                 ...              ...\n",
      "6142              5         positive            positive         0.190278\n",
      "6143              4         positive            positive         0.200000\n",
      "6144              4         positive            positive         0.189451\n",
      "6145              4         positive            positive         0.210606\n",
      "6146              5         positive            positive         0.193238\n",
      "\n",
      "[6147 rows x 4 columns]\n"
     ]
    }
   ],
   "source": [
    "# Simple evaluation based on rating mapping\n",
    "def rating_to_sentiment(rating):\n",
    "    if rating >= 4:\n",
    "        return 'positive'\n",
    "    elif rating <= 2:\n",
    "        return 'negative'\n",
    "    else:\n",
    "        return 'neutral'\n",
    "\n",
    "# Add actual sentiment labels\n",
    "results_df['actual_sentiment'] = results_df['actual_rating'].apply(rating_to_sentiment)\n",
    "\n",
    "# Calculate accuracy\n",
    "accuracy = (results_df['predicted_sentiment'] == results_df['actual_sentiment']).mean()\n",
    "print(f\"Accuracy: {accuracy:.3f}\")\n",
    "\n",
    "# Show comparison\n",
    "print(\"\\nPrediction vs Actual:\")\n",
    "print(results_df[['actual_rating', 'actual_sentiment', 'predicted_sentiment', 'sentiment_score']])"
   ]
  },
  {
   "cell_type": "markdown",
   "id": "5b3b619b",
   "metadata": {},
   "source": [
    "## Task 2: Unsupervised Machine Learning"
   ]
  },
  {
   "cell_type": "markdown",
   "id": "4d2ae072",
   "metadata": {},
   "source": [
    "Import libraries"
   ]
  },
  {
   "cell_type": "code",
   "execution_count": null,
   "id": "ffba1136",
   "metadata": {},
   "outputs": [],
   "source": [
    "# %pip install gensim"
   ]
  },
  {
   "cell_type": "code",
   "execution_count": null,
   "id": "f2722596",
   "metadata": {},
   "outputs": [
    {
     "name": "stdout",
     "output_type": "stream",
     "text": [
      "Libraries imported successfully!\n"
     ]
    },
    {
     "name": "stderr",
     "output_type": "stream",
     "text": [
      "[nltk_data] Downloading package punkt to\n",
      "[nltk_data]     C:\\Users\\azri2\\AppData\\Roaming\\nltk_data...\n",
      "[nltk_data]   Package punkt is already up-to-date!\n",
      "[nltk_data] Downloading package stopwords to\n",
      "[nltk_data]     C:\\Users\\azri2\\AppData\\Roaming\\nltk_data...\n",
      "[nltk_data]   Package stopwords is already up-to-date!\n"
     ]
    }
   ],
   "source": [
    "import gensim\n",
    "from gensim import corpora\n",
    "from nltk.corpus import stopwords\n",
    "from nltk.tokenize import word_tokenize\n",
    "import nltk\n",
    "import pandas as pd\n",
    "import matplotlib.pyplot as plt\n",
    "from IPython.display import display\n",
    "\n",
    "# Download required NLTK data\n",
    "nltk.download('punkt')\n",
    "nltk.download('stopwords')\n",
    "\n",
    "print(\"Libraries imported successfully!\")"
   ]
  },
  {
   "cell_type": "code",
   "execution_count": null,
   "id": "9b5c00c6",
   "metadata": {},
   "outputs": [
    {
     "name": "stdout",
     "output_type": "stream",
     "text": [
      "Number of processed documents: 1000\n",
      "Sample processed text: ['recommend', 'hotel', 'reviewers', 'actually', 'stay', 'hotel', 'good', 'thing', 'hotel', 'location']\n"
     ]
    }
   ],
   "source": [
    "# Preprocessing\n",
    "stop_words = set(stopwords.words('english'))\n",
    "\n",
    "# Use TripAdvisor dataset\n",
    "texts = [\n",
    "    [word for word in word_tokenize(str(doc).lower()) if word.isalpha() and word not in stop_words]\n",
    "    for doc in df['Review'].dropna().sample(1000, random_state=42)\n",
    "]\n",
    "\n",
    "print(f\"Number of processed documents: {len(texts)}\")\n",
    "print(f\"Sample processed text: {texts[0][:10]}\")  # Show first 10 words of first document"
   ]
  },
  {
   "cell_type": "code",
   "execution_count": 16,
   "id": "bcc8df84",
   "metadata": {},
   "outputs": [
    {
     "name": "stdout",
     "output_type": "stream",
     "text": [
      "Dictionary size: 4899\n",
      "Corpus size: 1000\n",
      "Sample document representation: [(0, 1), (1, 2), (2, 1), (3, 1), (4, 1)]\n"
     ]
    }
   ],
   "source": [
    "# Create dictionary and corpus\n",
    "dictionary = corpora.Dictionary(texts)\n",
    "\n",
    "# Filter out words that appear in less than 2 documents or more than 50% of documents\n",
    "dictionary.filter_extremes(no_below=2, no_above=0.5)\n",
    "\n",
    "corpus = [dictionary.doc2bow(text) for text in texts]\n",
    "\n",
    "print(f\"Dictionary size: {len(dictionary)}\")\n",
    "print(f\"Corpus size: {len(corpus)}\")\n",
    "print(f\"Sample document representation: {corpus[0][:5]}\")  # Show first 5 word-frequency pairs"
   ]
  },
  {
   "cell_type": "code",
   "execution_count": 17,
   "id": "74edc256",
   "metadata": {},
   "outputs": [
    {
     "name": "stdout",
     "output_type": "stream",
     "text": [
      "LDA model training completed!\n",
      "Number of topics: 5\n"
     ]
    }
   ],
   "source": [
    "# Train LDA Model\n",
    "lda_model = gensim.models.LdaModel(\n",
    "    corpus, \n",
    "    num_topics=5, \n",
    "    id2word=dictionary, \n",
    "    passes=10,\n",
    "    random_state=42\n",
    ")\n",
    "\n",
    "print(\"LDA model training completed!\")\n",
    "print(f\"Number of topics: {lda_model.num_topics}\")"
   ]
  },
  {
   "cell_type": "code",
   "execution_count": 18,
   "id": "2e0efbf4",
   "metadata": {},
   "outputs": [
    {
     "name": "stdout",
     "output_type": "stream",
     "text": [
      "Discovered Topics:\n"
     ]
    },
    {
     "data": {
      "text/html": [
       "<div>\n",
       "<style scoped>\n",
       "    .dataframe tbody tr th:only-of-type {\n",
       "        vertical-align: middle;\n",
       "    }\n",
       "\n",
       "    .dataframe tbody tr th {\n",
       "        vertical-align: top;\n",
       "    }\n",
       "\n",
       "    .dataframe thead th {\n",
       "        text-align: right;\n",
       "    }\n",
       "</style>\n",
       "<table border=\"1\" class=\"dataframe\">\n",
       "  <thead>\n",
       "    <tr style=\"text-align: right;\">\n",
       "      <th></th>\n",
       "      <th>Topic Number</th>\n",
       "      <th>Top Keywords</th>\n",
       "    </tr>\n",
       "  </thead>\n",
       "  <tbody>\n",
       "    <tr>\n",
       "      <th>0</th>\n",
       "      <td>0</td>\n",
       "      <td>beach, nice, good, pool, time, day, food, room...</td>\n",
       "    </tr>\n",
       "    <tr>\n",
       "      <th>1</th>\n",
       "      <td>1</td>\n",
       "      <td>location, good, stayed, rooms, walk, breakfast...</td>\n",
       "    </tr>\n",
       "    <tr>\n",
       "      <th>2</th>\n",
       "      <td>2</td>\n",
       "      <td>location, good, rooms, breakfast, clean, nice,...</td>\n",
       "    </tr>\n",
       "    <tr>\n",
       "      <th>3</th>\n",
       "      <td>3</td>\n",
       "      <td>resort, beach, good, food, time, people, like,...</td>\n",
       "    </tr>\n",
       "    <tr>\n",
       "      <th>4</th>\n",
       "      <td>4</td>\n",
       "      <td>service, good, stayed, nice, wonderful, locati...</td>\n",
       "    </tr>\n",
       "  </tbody>\n",
       "</table>\n",
       "</div>"
      ],
      "text/plain": [
       "   Topic Number                                       Top Keywords\n",
       "0             0  beach, nice, good, pool, time, day, food, room...\n",
       "1             1  location, good, stayed, rooms, walk, breakfast...\n",
       "2             2  location, good, rooms, breakfast, clean, nice,...\n",
       "3             3  resort, beach, good, food, time, people, like,...\n",
       "4             4  service, good, stayed, nice, wonderful, locati..."
      ]
     },
     "metadata": {},
     "output_type": "display_data"
    }
   ],
   "source": [
    "# Extract topic data into a table\n",
    "topic_data = []\n",
    "for idx, topic in lda_model.print_topics(num_words=10):\n",
    "    topic_clean = topic.replace('\"', '').replace('+', '')\n",
    "    keywords = [kw.split('*')[1].strip() for kw in topic_clean.split() if '*' in kw]\n",
    "    topic_data.append({\"Topic Number\": idx, \"Top Keywords\": \", \".join(keywords)})\n",
    "\n",
    "# Create DataFrame\n",
    "topic_df = pd.DataFrame(topic_data)\n",
    "\n",
    "# Display as table\n",
    "print(\"Discovered Topics:\")\n",
    "display(topic_df)"
   ]
  },
  {
   "cell_type": "code",
   "execution_count": 19,
   "id": "3d37c54e",
   "metadata": {},
   "outputs": [
    {
     "data": {
      "image/png": "[encoded data removed]",
      "text/plain": [
       "<Figure size 800x400 with 1 Axes>"
      ]
     },
     "metadata": {},
     "output_type": "display_data"
    },
    {
     "name": "stdout",
     "output_type": "stream",
     "text": [
      "Topic weights: ['0: 0.076', '1: 0.087', '2: 0.072', '3: 0.090', '4: 0.063']\n"
     ]
    }
   ],
   "source": [
    "# Get topic importance\n",
    "topic_weights = [sum([w for _, w in lda_model.get_topic_terms(i)]) for i in range(lda_model.num_topics)]\n",
    "\n",
    "# Plot\n",
    "plt.figure(figsize=(8, 4))\n",
    "plt.bar(range(len(topic_weights)), topic_weights)\n",
    "plt.title(\"Relative Topic Importance\")\n",
    "plt.xlabel(\"Topic Number\")\n",
    "plt.ylabel(\"Sum of Word Probabilities\")\n",
    "plt.show()\n",
    "\n",
    "print(\"Topic weights:\", [f\"{i}: {w:.3f}\" for i, w in enumerate(topic_weights)])"
   ]
  },
  {
   "cell_type": "markdown",
   "id": "adcb7202",
   "metadata": {},
   "source": [
    "## Task 3: Supervised Machine Learning"
   ]
  },
  {
   "cell_type": "code",
   "execution_count": null,
   "id": "a6bc7b98",
   "metadata": {},
   "outputs": [
    {
     "name": "stdout",
     "output_type": "stream",
     "text": [
      "              precision    recall  f1-score   support\n",
      "\n",
      "    negative       0.88      0.42      0.57       194\n",
      "     neutral       0.00      0.00      0.00       149\n",
      "    positive       0.78      1.00      0.87       887\n",
      "\n",
      "    accuracy                           0.78      1230\n",
      "   macro avg       0.55      0.47      0.48      1230\n",
      "weighted avg       0.70      0.78      0.72      1230\n",
      "\n"
     ]
    },
    {
     "name": "stderr",
     "output_type": "stream",
     "text": [
      "c:\\Users\\azri2\\anaconda3\\Lib\\site-packages\\sklearn\\metrics\\_classification.py:1565: UndefinedMetricWarning: Precision is ill-defined and being set to 0.0 in labels with no predicted samples. Use `zero_division` parameter to control this behavior.\n",
      "  _warn_prf(average, modifier, f\"{metric.capitalize()} is\", len(result))\n",
      "c:\\Users\\azri2\\anaconda3\\Lib\\site-packages\\sklearn\\metrics\\_classification.py:1565: UndefinedMetricWarning: Precision is ill-defined and being set to 0.0 in labels with no predicted samples. Use `zero_division` parameter to control this behavior.\n",
      "  _warn_prf(average, modifier, f\"{metric.capitalize()} is\", len(result))\n",
      "c:\\Users\\azri2\\anaconda3\\Lib\\site-packages\\sklearn\\metrics\\_classification.py:1565: UndefinedMetricWarning: Precision is ill-defined and being set to 0.0 in labels with no predicted samples. Use `zero_division` parameter to control this behavior.\n",
      "  _warn_prf(average, modifier, f\"{metric.capitalize()} is\", len(result))\n"
     ]
    }
   ],
   "source": [
    "import pandas as pd\n",
    "import seaborn as sns\n",
    "import matplotlib.pyplot as plt\n",
    "from sklearn.model_selection import train_test_split\n",
    "from sklearn.feature_extraction.text import TfidfVectorizer\n",
    "from sklearn.ensemble import RandomForestClassifier\n",
    "from sklearn.metrics import classification_report\n",
    "\n",
    "df = pd.read_csv('tripadvisor_hotel_reviews.csv')\n",
    "\n",
    "# Use only a certain percent of the data\n",
    "percent = 30  # Change this to 10, 50, 100, etc.\n",
    "df = df.dropna(subset=['Review', 'Rating'])  # Remove missing values\n",
    "df = df.sample(frac=percent/100, random_state=42)  # Sample the dataset\n",
    "\n",
    "# --- Create sentiment labels from rating ---\n",
    "def label_sentiment(score):\n",
    "    if score <= 2:\n",
    "        return 'negative'\n",
    "    elif score == 3:\n",
    "        return 'neutral'\n",
    "    else:\n",
    "        return 'positive'\n",
    "\n",
    "df['label'] = df['Rating'].apply(label_sentiment)\n",
    "\n",
    "# --- Train-test split ---\n",
    "X_train, X_test, y_train, y_test = train_test_split(\n",
    "    df['Review'], df['label'], test_size=0.2, random_state=42\n",
    ")\n",
    "\n",
    "# --- TF-IDF Vectorization ---\n",
    "vectorizer = TfidfVectorizer(max_features=5000)\n",
    "X_train_vec = vectorizer.fit_transform(X_train)\n",
    "X_test_vec = vectorizer.transform(X_test)\n",
    "\n",
    "# --- Train Random Forest Classifier ---\n",
    "model = RandomForestClassifier()\n",
    "model.fit(X_train_vec, y_train)\n",
    "\n",
    "# --- Evaluate the model ---\n",
    "y_pred = model.predict(X_test_vec)\n",
    "print(classification_report(y_test, y_pred))"
   ]
  },
  {
   "cell_type": "code",
   "execution_count": 24,
   "id": "ce4aaaad",
   "metadata": {},
   "outputs": [
    {
     "data": {
      "image/png": "[encoded data removed]",
      "text/plain": [
       "<Figure size 640x480 with 1 Axes>"
      ]
     },
     "metadata": {},
     "output_type": "display_data"
    }
   ],
   "source": [
    "# --- Plot sentiment distribution ---\n",
    "sns.countplot(x='label', data=df)\n",
    "plt.title(f\"Sentiment Distribution ({percent}% Sample)\")\n",
    "plt.show()\n"
   ]
  }
 ],
 "metadata": {
  "kernelspec": {
   "display_name": "base",
   "language": "python",
   "name": "python3"
  },
  "language_info": {
   "codemirror_mode": {
    "name": "ipython",
    "version": 3
   },
   "file_extension": ".py",
   "mimetype": "text/x-python",
   "name": "python",
   "nbconvert_exporter": "python",
   "pygments_lexer": "ipython3",
   "version": "3.11.7"
  }
 },
 "nbformat": 4,
 "nbformat_minor": 5
}
